{
 "cells": [
  {
   "cell_type": "markdown",
   "metadata": {},
   "source": [
    "# Hypothyroid prediction using Random Forest"
   ]
  },
  {
   "cell_type": "code",
   "execution_count": 1,
   "metadata": {},
   "outputs": [],
   "source": [
    "import pandas as pd\n",
    "import numpy as np"
   ]
  },
  {
   "cell_type": "code",
   "execution_count": 2,
   "metadata": {},
   "outputs": [],
   "source": [
    "import pandas as pd \n",
    "import warnings\n",
    "warnings.filterwarnings(\"ignore\")\n",
    "\n",
    "file_handler = open(\"F:\\\\Thyroid Final\\\\hypothyroid.csv\", \"r\") \n",
    "df = pd.read_csv(file_handler, sep = \",\") \n",
    "file_handler.close() \n"
   ]
  },
  {
   "cell_type": "code",
   "execution_count": 3,
   "metadata": {},
   "outputs": [
    {
     "data": {
      "text/html": [
       "<div>\n",
       "<style scoped>\n",
       "    .dataframe tbody tr th:only-of-type {\n",
       "        vertical-align: middle;\n",
       "    }\n",
       "\n",
       "    .dataframe tbody tr th {\n",
       "        vertical-align: top;\n",
       "    }\n",
       "\n",
       "    .dataframe thead th {\n",
       "        text-align: right;\n",
       "    }\n",
       "</style>\n",
       "<table border=\"1\" class=\"dataframe\">\n",
       "  <thead>\n",
       "    <tr style=\"text-align: right;\">\n",
       "      <th></th>\n",
       "      <th>class</th>\n",
       "      <th>Age</th>\n",
       "      <th>Sex</th>\n",
       "      <th>on_thyroxine</th>\n",
       "      <th>query_on_thyroxine</th>\n",
       "      <th>on_antithyroid_medication</th>\n",
       "      <th>thyroid_surgery</th>\n",
       "      <th>query_hypothyroid</th>\n",
       "      <th>query_hyperthyroid</th>\n",
       "      <th>pregnant</th>\n",
       "      <th>...</th>\n",
       "      <th>T3_measured</th>\n",
       "      <th>T3</th>\n",
       "      <th>TT4_measured</th>\n",
       "      <th>TT4</th>\n",
       "      <th>T4U_measured</th>\n",
       "      <th>T4U</th>\n",
       "      <th>FTI_measured</th>\n",
       "      <th>FTI</th>\n",
       "      <th>TBG_measured</th>\n",
       "      <th>TBG</th>\n",
       "    </tr>\n",
       "  </thead>\n",
       "  <tbody>\n",
       "    <tr>\n",
       "      <th>0</th>\n",
       "      <td>hypothyroid</td>\n",
       "      <td>72</td>\n",
       "      <td>0</td>\n",
       "      <td>0</td>\n",
       "      <td>0</td>\n",
       "      <td>0</td>\n",
       "      <td>0</td>\n",
       "      <td>0</td>\n",
       "      <td>0</td>\n",
       "      <td>0</td>\n",
       "      <td>...</td>\n",
       "      <td>1</td>\n",
       "      <td>0.6</td>\n",
       "      <td>1</td>\n",
       "      <td>15</td>\n",
       "      <td>1</td>\n",
       "      <td>1.48</td>\n",
       "      <td>1</td>\n",
       "      <td>10</td>\n",
       "      <td>0</td>\n",
       "      <td>True</td>\n",
       "    </tr>\n",
       "    <tr>\n",
       "      <th>1</th>\n",
       "      <td>hypothyroid</td>\n",
       "      <td>15</td>\n",
       "      <td>1</td>\n",
       "      <td>1</td>\n",
       "      <td>0</td>\n",
       "      <td>0</td>\n",
       "      <td>0</td>\n",
       "      <td>0</td>\n",
       "      <td>0</td>\n",
       "      <td>0</td>\n",
       "      <td>...</td>\n",
       "      <td>1</td>\n",
       "      <td>1.7</td>\n",
       "      <td>1</td>\n",
       "      <td>19</td>\n",
       "      <td>1</td>\n",
       "      <td>1.13</td>\n",
       "      <td>1</td>\n",
       "      <td>17</td>\n",
       "      <td>0</td>\n",
       "      <td>True</td>\n",
       "    </tr>\n",
       "    <tr>\n",
       "      <th>2</th>\n",
       "      <td>hypothyroid</td>\n",
       "      <td>24</td>\n",
       "      <td>0</td>\n",
       "      <td>0</td>\n",
       "      <td>0</td>\n",
       "      <td>0</td>\n",
       "      <td>0</td>\n",
       "      <td>0</td>\n",
       "      <td>0</td>\n",
       "      <td>0</td>\n",
       "      <td>...</td>\n",
       "      <td>1</td>\n",
       "      <td>0.2</td>\n",
       "      <td>1</td>\n",
       "      <td>4</td>\n",
       "      <td>1</td>\n",
       "      <td>1</td>\n",
       "      <td>1</td>\n",
       "      <td>0</td>\n",
       "      <td>0</td>\n",
       "      <td>True</td>\n",
       "    </tr>\n",
       "    <tr>\n",
       "      <th>3</th>\n",
       "      <td>hypothyroid</td>\n",
       "      <td>24</td>\n",
       "      <td>1</td>\n",
       "      <td>0</td>\n",
       "      <td>0</td>\n",
       "      <td>0</td>\n",
       "      <td>0</td>\n",
       "      <td>0</td>\n",
       "      <td>0</td>\n",
       "      <td>0</td>\n",
       "      <td>...</td>\n",
       "      <td>1</td>\n",
       "      <td>0.4</td>\n",
       "      <td>1</td>\n",
       "      <td>6</td>\n",
       "      <td>1</td>\n",
       "      <td>1.04</td>\n",
       "      <td>1</td>\n",
       "      <td>6</td>\n",
       "      <td>0</td>\n",
       "      <td>True</td>\n",
       "    </tr>\n",
       "    <tr>\n",
       "      <th>4</th>\n",
       "      <td>hypothyroid</td>\n",
       "      <td>77</td>\n",
       "      <td>0</td>\n",
       "      <td>0</td>\n",
       "      <td>0</td>\n",
       "      <td>0</td>\n",
       "      <td>0</td>\n",
       "      <td>0</td>\n",
       "      <td>0</td>\n",
       "      <td>0</td>\n",
       "      <td>...</td>\n",
       "      <td>1</td>\n",
       "      <td>1.2</td>\n",
       "      <td>1</td>\n",
       "      <td>57</td>\n",
       "      <td>1</td>\n",
       "      <td>1.28</td>\n",
       "      <td>1</td>\n",
       "      <td>44</td>\n",
       "      <td>0</td>\n",
       "      <td>True</td>\n",
       "    </tr>\n",
       "  </tbody>\n",
       "</table>\n",
       "<p>5 rows × 26 columns</p>\n",
       "</div>"
      ],
      "text/plain": [
       "         class Age Sex  on_thyroxine  query_on_thyroxine  \\\n",
       "0  hypothyroid  72   0             0                   0   \n",
       "1  hypothyroid  15   1             1                   0   \n",
       "2  hypothyroid  24   0             0                   0   \n",
       "3  hypothyroid  24   1             0                   0   \n",
       "4  hypothyroid  77   0             0                   0   \n",
       "\n",
       "   on_antithyroid_medication  thyroid_surgery  query_hypothyroid  \\\n",
       "0                          0                0                  0   \n",
       "1                          0                0                  0   \n",
       "2                          0                0                  0   \n",
       "3                          0                0                  0   \n",
       "4                          0                0                  0   \n",
       "\n",
       "   query_hyperthyroid  pregnant  ...  T3_measured   T3  TT4_measured  TT4  \\\n",
       "0                   0         0  ...            1  0.6             1   15   \n",
       "1                   0         0  ...            1  1.7             1   19   \n",
       "2                   0         0  ...            1  0.2             1    4   \n",
       "3                   0         0  ...            1  0.4             1    6   \n",
       "4                   0         0  ...            1  1.2             1   57   \n",
       "\n",
       "   T4U_measured   T4U  FTI_measured FTI  TBG_measured   TBG  \n",
       "0             1  1.48             1  10             0  True  \n",
       "1             1  1.13             1  17             0  True  \n",
       "2             1     1             1   0             0  True  \n",
       "3             1  1.04             1   6             0  True  \n",
       "4             1  1.28             1  44             0  True  \n",
       "\n",
       "[5 rows x 26 columns]"
      ]
     },
     "execution_count": 3,
     "metadata": {},
     "output_type": "execute_result"
    }
   ],
   "source": [
    "df.loc[df['Age'] == '455', 'Age'] = '45'\n",
    "df = df.replace(to_replace={'f':0,'t':1, 'y':1, 'n':0,'M':0,'F':1})\n",
    "df = df.replace(to_replace={'?':True})\n",
    "df.dropna(inplace=True)\n",
    "df.head(5)"
   ]
  },
  {
   "cell_type": "code",
   "execution_count": 4,
   "metadata": {},
   "outputs": [
    {
     "data": {
      "text/html": [
       "<div>\n",
       "<style scoped>\n",
       "    .dataframe tbody tr th:only-of-type {\n",
       "        vertical-align: middle;\n",
       "    }\n",
       "\n",
       "    .dataframe tbody tr th {\n",
       "        vertical-align: top;\n",
       "    }\n",
       "\n",
       "    .dataframe thead th {\n",
       "        text-align: right;\n",
       "    }\n",
       "</style>\n",
       "<table border=\"1\" class=\"dataframe\">\n",
       "  <thead>\n",
       "    <tr style=\"text-align: right;\">\n",
       "      <th></th>\n",
       "      <th>on_thyroxine</th>\n",
       "      <th>query_on_thyroxine</th>\n",
       "      <th>on_antithyroid_medication</th>\n",
       "      <th>thyroid_surgery</th>\n",
       "      <th>query_hypothyroid</th>\n",
       "      <th>query_hyperthyroid</th>\n",
       "      <th>pregnant</th>\n",
       "      <th>sick</th>\n",
       "      <th>tumor</th>\n",
       "      <th>lithium</th>\n",
       "      <th>goitre</th>\n",
       "      <th>TSH_measured</th>\n",
       "      <th>T3_measured</th>\n",
       "      <th>TT4_measured</th>\n",
       "      <th>T4U_measured</th>\n",
       "      <th>FTI_measured</th>\n",
       "      <th>TBG_measured</th>\n",
       "    </tr>\n",
       "  </thead>\n",
       "  <tbody>\n",
       "    <tr>\n",
       "      <th>count</th>\n",
       "      <td>3163.000000</td>\n",
       "      <td>3163.000000</td>\n",
       "      <td>3163.000000</td>\n",
       "      <td>3163.000000</td>\n",
       "      <td>3163.000000</td>\n",
       "      <td>3163.000000</td>\n",
       "      <td>3163.000000</td>\n",
       "      <td>3163.000000</td>\n",
       "      <td>3163.000000</td>\n",
       "      <td>3163.000000</td>\n",
       "      <td>3163.000000</td>\n",
       "      <td>3163.000000</td>\n",
       "      <td>3163.000000</td>\n",
       "      <td>3163.000000</td>\n",
       "      <td>3163.000000</td>\n",
       "      <td>3163.000000</td>\n",
       "      <td>3163.000000</td>\n",
       "    </tr>\n",
       "    <tr>\n",
       "      <th>mean</th>\n",
       "      <td>0.145748</td>\n",
       "      <td>0.017389</td>\n",
       "      <td>0.013279</td>\n",
       "      <td>0.032880</td>\n",
       "      <td>0.076193</td>\n",
       "      <td>0.076826</td>\n",
       "      <td>0.019918</td>\n",
       "      <td>0.031299</td>\n",
       "      <td>0.012646</td>\n",
       "      <td>0.000632</td>\n",
       "      <td>0.031299</td>\n",
       "      <td>0.852039</td>\n",
       "      <td>0.780272</td>\n",
       "      <td>0.921277</td>\n",
       "      <td>0.921593</td>\n",
       "      <td>0.921910</td>\n",
       "      <td>0.082200</td>\n",
       "    </tr>\n",
       "    <tr>\n",
       "      <th>std</th>\n",
       "      <td>0.352909</td>\n",
       "      <td>0.130735</td>\n",
       "      <td>0.114483</td>\n",
       "      <td>0.178351</td>\n",
       "      <td>0.265349</td>\n",
       "      <td>0.266357</td>\n",
       "      <td>0.139740</td>\n",
       "      <td>0.174153</td>\n",
       "      <td>0.111760</td>\n",
       "      <td>0.025142</td>\n",
       "      <td>0.174153</td>\n",
       "      <td>0.355117</td>\n",
       "      <td>0.414128</td>\n",
       "      <td>0.269348</td>\n",
       "      <td>0.268853</td>\n",
       "      <td>0.268356</td>\n",
       "      <td>0.274713</td>\n",
       "    </tr>\n",
       "    <tr>\n",
       "      <th>min</th>\n",
       "      <td>0.000000</td>\n",
       "      <td>0.000000</td>\n",
       "      <td>0.000000</td>\n",
       "      <td>0.000000</td>\n",
       "      <td>0.000000</td>\n",
       "      <td>0.000000</td>\n",
       "      <td>0.000000</td>\n",
       "      <td>0.000000</td>\n",
       "      <td>0.000000</td>\n",
       "      <td>0.000000</td>\n",
       "      <td>0.000000</td>\n",
       "      <td>0.000000</td>\n",
       "      <td>0.000000</td>\n",
       "      <td>0.000000</td>\n",
       "      <td>0.000000</td>\n",
       "      <td>0.000000</td>\n",
       "      <td>0.000000</td>\n",
       "    </tr>\n",
       "    <tr>\n",
       "      <th>25%</th>\n",
       "      <td>0.000000</td>\n",
       "      <td>0.000000</td>\n",
       "      <td>0.000000</td>\n",
       "      <td>0.000000</td>\n",
       "      <td>0.000000</td>\n",
       "      <td>0.000000</td>\n",
       "      <td>0.000000</td>\n",
       "      <td>0.000000</td>\n",
       "      <td>0.000000</td>\n",
       "      <td>0.000000</td>\n",
       "      <td>0.000000</td>\n",
       "      <td>1.000000</td>\n",
       "      <td>1.000000</td>\n",
       "      <td>1.000000</td>\n",
       "      <td>1.000000</td>\n",
       "      <td>1.000000</td>\n",
       "      <td>0.000000</td>\n",
       "    </tr>\n",
       "    <tr>\n",
       "      <th>50%</th>\n",
       "      <td>0.000000</td>\n",
       "      <td>0.000000</td>\n",
       "      <td>0.000000</td>\n",
       "      <td>0.000000</td>\n",
       "      <td>0.000000</td>\n",
       "      <td>0.000000</td>\n",
       "      <td>0.000000</td>\n",
       "      <td>0.000000</td>\n",
       "      <td>0.000000</td>\n",
       "      <td>0.000000</td>\n",
       "      <td>0.000000</td>\n",
       "      <td>1.000000</td>\n",
       "      <td>1.000000</td>\n",
       "      <td>1.000000</td>\n",
       "      <td>1.000000</td>\n",
       "      <td>1.000000</td>\n",
       "      <td>0.000000</td>\n",
       "    </tr>\n",
       "    <tr>\n",
       "      <th>75%</th>\n",
       "      <td>0.000000</td>\n",
       "      <td>0.000000</td>\n",
       "      <td>0.000000</td>\n",
       "      <td>0.000000</td>\n",
       "      <td>0.000000</td>\n",
       "      <td>0.000000</td>\n",
       "      <td>0.000000</td>\n",
       "      <td>0.000000</td>\n",
       "      <td>0.000000</td>\n",
       "      <td>0.000000</td>\n",
       "      <td>0.000000</td>\n",
       "      <td>1.000000</td>\n",
       "      <td>1.000000</td>\n",
       "      <td>1.000000</td>\n",
       "      <td>1.000000</td>\n",
       "      <td>1.000000</td>\n",
       "      <td>0.000000</td>\n",
       "    </tr>\n",
       "    <tr>\n",
       "      <th>max</th>\n",
       "      <td>1.000000</td>\n",
       "      <td>1.000000</td>\n",
       "      <td>1.000000</td>\n",
       "      <td>1.000000</td>\n",
       "      <td>1.000000</td>\n",
       "      <td>1.000000</td>\n",
       "      <td>1.000000</td>\n",
       "      <td>1.000000</td>\n",
       "      <td>1.000000</td>\n",
       "      <td>1.000000</td>\n",
       "      <td>1.000000</td>\n",
       "      <td>1.000000</td>\n",
       "      <td>1.000000</td>\n",
       "      <td>1.000000</td>\n",
       "      <td>1.000000</td>\n",
       "      <td>1.000000</td>\n",
       "      <td>1.000000</td>\n",
       "    </tr>\n",
       "  </tbody>\n",
       "</table>\n",
       "</div>"
      ],
      "text/plain": [
       "       on_thyroxine  query_on_thyroxine  on_antithyroid_medication  \\\n",
       "count   3163.000000         3163.000000                3163.000000   \n",
       "mean       0.145748            0.017389                   0.013279   \n",
       "std        0.352909            0.130735                   0.114483   \n",
       "min        0.000000            0.000000                   0.000000   \n",
       "25%        0.000000            0.000000                   0.000000   \n",
       "50%        0.000000            0.000000                   0.000000   \n",
       "75%        0.000000            0.000000                   0.000000   \n",
       "max        1.000000            1.000000                   1.000000   \n",
       "\n",
       "       thyroid_surgery  query_hypothyroid  query_hyperthyroid     pregnant  \\\n",
       "count      3163.000000        3163.000000         3163.000000  3163.000000   \n",
       "mean          0.032880           0.076193            0.076826     0.019918   \n",
       "std           0.178351           0.265349            0.266357     0.139740   \n",
       "min           0.000000           0.000000            0.000000     0.000000   \n",
       "25%           0.000000           0.000000            0.000000     0.000000   \n",
       "50%           0.000000           0.000000            0.000000     0.000000   \n",
       "75%           0.000000           0.000000            0.000000     0.000000   \n",
       "max           1.000000           1.000000            1.000000     1.000000   \n",
       "\n",
       "              sick        tumor      lithium       goitre  TSH_measured  \\\n",
       "count  3163.000000  3163.000000  3163.000000  3163.000000   3163.000000   \n",
       "mean      0.031299     0.012646     0.000632     0.031299      0.852039   \n",
       "std       0.174153     0.111760     0.025142     0.174153      0.355117   \n",
       "min       0.000000     0.000000     0.000000     0.000000      0.000000   \n",
       "25%       0.000000     0.000000     0.000000     0.000000      1.000000   \n",
       "50%       0.000000     0.000000     0.000000     0.000000      1.000000   \n",
       "75%       0.000000     0.000000     0.000000     0.000000      1.000000   \n",
       "max       1.000000     1.000000     1.000000     1.000000      1.000000   \n",
       "\n",
       "       T3_measured  TT4_measured  T4U_measured  FTI_measured  TBG_measured  \n",
       "count  3163.000000   3163.000000   3163.000000   3163.000000   3163.000000  \n",
       "mean      0.780272      0.921277      0.921593      0.921910      0.082200  \n",
       "std       0.414128      0.269348      0.268853      0.268356      0.274713  \n",
       "min       0.000000      0.000000      0.000000      0.000000      0.000000  \n",
       "25%       1.000000      1.000000      1.000000      1.000000      0.000000  \n",
       "50%       1.000000      1.000000      1.000000      1.000000      0.000000  \n",
       "75%       1.000000      1.000000      1.000000      1.000000      0.000000  \n",
       "max       1.000000      1.000000      1.000000      1.000000      1.000000  "
      ]
     },
     "execution_count": 4,
     "metadata": {},
     "output_type": "execute_result"
    }
   ],
   "source": [
    "df.describe()"
   ]
  },
  {
   "cell_type": "code",
   "execution_count": 5,
   "metadata": {},
   "outputs": [],
   "source": [
    "from sklearn.preprocessing import LabelEncoder\n",
    "lb_make = LabelEncoder()\n",
    "df[\"class\"] = lb_make.fit_transform(df[\"class\"])\n"
   ]
  },
  {
   "cell_type": "code",
   "execution_count": 6,
   "metadata": {},
   "outputs": [
    {
     "data": {
      "text/plain": [
       "<matplotlib.axes._subplots.AxesSubplot at 0x144def62520>"
      ]
     },
     "execution_count": 6,
     "metadata": {},
     "output_type": "execute_result"
    },
    {
     "data": {
      "image/png": "[encoded data removed]",
      "text/plain": [
       "<Figure size 432x288 with 1 Axes>"
      ]
     },
     "metadata": {
      "needs_background": "light"
     },
     "output_type": "display_data"
    }
   ],
   "source": [
    "import seaborn as sns\n",
    "sns.countplot(x=\"class\",data=df)"
   ]
  },
  {
   "cell_type": "code",
   "execution_count": 7,
   "metadata": {},
   "outputs": [],
   "source": [
    "x=df.iloc[:,[1,2,3,4,6,9,10,11,12,13,14,15,16,17,18,19]]\n",
    "y=df[\"class\"]\n"
   ]
  },
  {
   "cell_type": "code",
   "execution_count": 8,
   "metadata": {},
   "outputs": [],
   "source": [
    "from sklearn.model_selection import train_test_split\n",
    "x_train,x_test,y_train,y_test=train_test_split(x,y,test_size=0.4,random_state=1)\n",
    "from sklearn.preprocessing import MinMaxScaler\n",
    "from sklearn.preprocessing import StandardScaler\n",
    "sc = StandardScaler()\n",
    "x_train = sc.fit_transform(x_train)\n",
    "x_test = sc.transform(x_test)\n"
   ]
  },
  {
   "cell_type": "code",
   "execution_count": 9,
   "metadata": {},
   "outputs": [
    {
     "data": {
      "text/plain": [
       "RandomForestClassifier(bootstrap=True, ccp_alpha=0.0, class_weight=None,\n",
       "                       criterion='gini', max_depth=None, max_features='auto',\n",
       "                       max_leaf_nodes=None, max_samples=None,\n",
       "                       min_impurity_decrease=0.0, min_impurity_split=None,\n",
       "                       min_samples_leaf=1, min_samples_split=2,\n",
       "                       min_weight_fraction_leaf=0.0, n_estimators=100,\n",
       "                       n_jobs=None, oob_score=False, random_state=None,\n",
       "                       verbose=0, warm_start=False)"
      ]
     },
     "execution_count": 9,
     "metadata": {},
     "output_type": "execute_result"
    }
   ],
   "source": [
    "from sklearn.ensemble import RandomForestClassifier\n",
    "a=RandomForestClassifier()\n",
    "a.fit(x_train,y_train)\n"
   ]
  },
  {
   "cell_type": "code",
   "execution_count": 10,
   "metadata": {},
   "outputs": [
    {
     "data": {
      "text/plain": [
       "98.81516587677726"
      ]
     },
     "execution_count": 10,
     "metadata": {},
     "output_type": "execute_result"
    }
   ],
   "source": [
    "y_pred=a.predict(x_test)\n",
    "from sklearn.metrics import accuracy_score\n",
    "accuracy_score(y_test,y_pred)*100\n"
   ]
  },
  {
   "cell_type": "code",
   "execution_count": 11,
   "metadata": {},
   "outputs": [
    {
     "name": "stdout",
     "output_type": "stream",
     "text": [
      "\n",
      "              precision    recall  f1-score   support\n",
      "\n",
      "           0       0.88      0.84      0.86        55\n",
      "           1       0.99      1.00      0.99      1211\n",
      "\n",
      "    accuracy                           0.99      1266\n",
      "   macro avg       0.94      0.92      0.93      1266\n",
      "weighted avg       0.99      0.99      0.99      1266\n",
      "\n",
      "\n",
      "[[  46    9]\n",
      " [   6 1205]]\n",
      "Accuracy:   0.9881516587677726\n"
     ]
    }
   ],
   "source": [
    "    from sklearn import metrics\n",
    "\n",
    "    expected_y  = y_test\n",
    "    y_pred = a.predict(x_test)\n",
    "    \n",
    "    # summarize the fit of the model\n",
    "    print(); print(metrics.classification_report(expected_y,y_pred))\n",
    "    print(); print(metrics.confusion_matrix(expected_y, y_pred))\n",
    "    print(\"Accuracy:  \",metrics.accuracy_score(expected_y, y_pred))"
   ]
  },
  {
   "cell_type": "code",
   "execution_count": 12,
   "metadata": {},
   "outputs": [
    {
     "data": {
      "text/plain": [
       "array([[  46,    9],\n",
       "       [   6, 1205]], dtype=int64)"
      ]
     },
     "execution_count": 12,
     "metadata": {},
     "output_type": "execute_result"
    }
   ],
   "source": [
    "from sklearn.metrics import confusion_matrix\n",
    "confusion_matrix(y_test,y_pred)"
   ]
  },
  {
   "cell_type": "code",
   "execution_count": 13,
   "metadata": {},
   "outputs": [
    {
     "name": "stdout",
     "output_type": "stream",
     "text": [
      "ACCURACY:\n",
      "0.9881516587677726\n"
     ]
    }
   ],
   "source": [
    "# calculate accuracy\n",
    "from sklearn import metrics\n",
    "print(\"ACCURACY:\")\n",
    "print(metrics.accuracy_score(y_test, y_pred))\n"
   ]
  },
  {
   "cell_type": "code",
   "execution_count": 14,
   "metadata": {},
   "outputs": [
    {
     "name": "stdout",
     "output_type": "stream",
     "text": [
      "Percentage of ones\n"
     ]
    },
    {
     "data": {
      "text/plain": [
       "0.9565560821484992"
      ]
     },
     "execution_count": 14,
     "metadata": {},
     "output_type": "execute_result"
    }
   ],
   "source": [
    "# calculate the percentage of ones\n",
    "# because y_test only contains ones and zeros, we can simply calculate the mean = percentage of ones\n",
    "print(\"Percentage of ones\")\n",
    "y_test.mean()\n"
   ]
  },
  {
   "cell_type": "code",
   "execution_count": 15,
   "metadata": {},
   "outputs": [
    {
     "name": "stdout",
     "output_type": "stream",
     "text": [
      "Percentage of zeros\n"
     ]
    },
    {
     "data": {
      "text/plain": [
       "0.04344391785150081"
      ]
     },
     "execution_count": 15,
     "metadata": {},
     "output_type": "execute_result"
    }
   ],
   "source": [
    "print(\"Percentage of zeros\")\n",
    "1 - y_test.mean()\n"
   ]
  },
  {
   "cell_type": "code",
   "execution_count": 16,
   "metadata": {},
   "outputs": [
    {
     "data": {
      "text/plain": [
       "0.9565560821484992"
      ]
     },
     "execution_count": 16,
     "metadata": {},
     "output_type": "execute_result"
    }
   ],
   "source": [
    "# calculate null accuracy in a single line of code\n",
    "# only for binary classification problems coded as 0/1\n",
    "max(y_test.mean(), 1 - y_test.mean())\n"
   ]
  },
  {
   "cell_type": "code",
   "execution_count": 17,
   "metadata": {},
   "outputs": [
    {
     "name": "stdout",
     "output_type": "stream",
     "text": [
      "[[  46    9]\n",
      " [   6 1205]]\n"
     ]
    }
   ],
   "source": [
    "confusion = metrics.confusion_matrix(y_test, y_pred)\n",
    "print(confusion)\n",
    "#[row, column]\n",
    "TP = confusion[1, 1]\n",
    "TN = confusion[0, 0]\n",
    "FP = confusion[0, 1]\n",
    "FN = confusion[1, 0]\n"
   ]
  },
  {
   "cell_type": "code",
   "execution_count": 18,
   "metadata": {},
   "outputs": [
    {
     "name": "stdout",
     "output_type": "stream",
     "text": [
      "classification_error\n",
      "0.011848341232227444\n"
     ]
    }
   ],
   "source": [
    "print(\"classification_error\")\n",
    "print(1 - metrics.accuracy_score(y_test, y_pred))\n"
   ]
  },
  {
   "cell_type": "code",
   "execution_count": 19,
   "metadata": {},
   "outputs": [
    {
     "name": "stdout",
     "output_type": "stream",
     "text": [
      "sensitivity\n",
      "0.9950454170107349\n"
     ]
    }
   ],
   "source": [
    "print(\"sensitivity\")\n",
    "print(metrics.recall_score(y_test, y_pred))\n"
   ]
  },
  {
   "cell_type": "code",
   "execution_count": 20,
   "metadata": {},
   "outputs": [
    {
     "name": "stdout",
     "output_type": "stream",
     "text": [
      "True Positive Rate\n",
      "0.8363636363636363\n"
     ]
    }
   ],
   "source": [
    "print(\"True Positive Rate\")\n",
    "specificity = TN / (TN + FP)\n",
    "\n",
    "print(specificity)\n"
   ]
  },
  {
   "cell_type": "code",
   "execution_count": 21,
   "metadata": {},
   "outputs": [
    {
     "name": "stdout",
     "output_type": "stream",
     "text": [
      "false_positive_rate\n",
      "0.16363636363636364\n"
     ]
    }
   ],
   "source": [
    "false_positive_rate = FP / float(TN + FP)\n",
    "print(\"false_positive_rate\")\n",
    "print(false_positive_rate)"
   ]
  },
  {
   "cell_type": "code",
   "execution_count": 22,
   "metadata": {},
   "outputs": [
    {
     "name": "stdout",
     "output_type": "stream",
     "text": [
      "precision\n",
      "0.9925864909390445\n"
     ]
    }
   ],
   "source": [
    "print(\"precision\")\n",
    "print(metrics.precision_score(y_test, y_pred))"
   ]
  },
  {
   "cell_type": "code",
   "execution_count": 23,
   "metadata": {},
   "outputs": [
    {
     "name": "stdout",
     "output_type": "stream",
     "text": [
      "0.9157045266871858\n"
     ]
    }
   ],
   "source": [
    "print(metrics.roc_auc_score(y_test, y_pred))"
   ]
  },
  {
   "cell_type": "code",
   "execution_count": 24,
   "metadata": {},
   "outputs": [
    {
     "data": {
      "image/png": "[encoded data removed]",
      "text/plain": [
       "<Figure size 432x288 with 1 Axes>"
      ]
     },
     "metadata": {
      "needs_background": "light"
     },
     "output_type": "display_data"
    }
   ],
   "source": [
    "import matplotlib.pyplot as plt\n",
    "fpr, tpr, thresholds = metrics.roc_curve(y_test, y_pred)\n",
    "\n",
    "plt.plot(fpr, tpr)\n",
    "plt.xlim([0.0, 1.0])\n",
    "plt.ylim([0.0, 1.0])\n",
    "plt.rcParams['font.size'] = 12\n",
    "plt.title('ROC curve using Random Forest(17 attributes)')\n",
    "plt.xlabel('False Positive Rate (1 - Specificity)')\n",
    "plt.ylabel('True Positive Rate (Sensitivity)')\n",
    "plt.grid(True)\n"
   ]
  },
  {
   "cell_type": "code",
   "execution_count": 25,
   "metadata": {},
   "outputs": [
    {
     "data": {
      "image/png": "[encoded data removed]",
      "text/plain": [
       "<Figure size 432x432 with 1 Axes>"
      ]
     },
     "metadata": {
      "needs_background": "light"
     },
     "output_type": "display_data"
    }
   ],
   "source": [
    "from sklearn.metrics import confusion_matrix\n",
    "cm = confusion_matrix(y_test, a.predict(x_test))\n",
    "fig, ax = plt.subplots(figsize=(6,6))\n",
    "ax.imshow(cm)\n",
    "ax.grid(False)\n",
    "ax.xaxis.set(ticks=(0, 1), ticklabels=('Predicted Hypothyroid', 'Predicted Negative'))\n",
    "ax.yaxis.set(ticks=(0, 1), ticklabels=('Actual Hypothyroid', 'Actual Negative'))\n",
    "ax.set_ylim(1.5, -0.5)\n",
    "for i in range(2):\n",
    "    for j in range(2):\n",
    "        ax.text(j, i, cm[i, j], ha='center', va='center', color='red')\n",
    "plt.title(\"Confusion Matrix using Random Forest(17 attributes)\")\n",
    "plt.show()\n"
   ]
  },
  {
   "cell_type": "code",
   "execution_count": 26,
   "metadata": {},
   "outputs": [
    {
     "name": "stdout",
     "output_type": "stream",
     "text": [
      "F-Measure: 0.994\n"
     ]
    }
   ],
   "source": [
    "from sklearn.metrics import f1_score\n",
    "score = f1_score(y_test, y_pred, average='binary')\n",
    "print('F-Measure: %.3f' % score)"
   ]
  },
  {
   "cell_type": "code",
   "execution_count": 27,
   "metadata": {},
   "outputs": [
    {
     "data": {
      "text/plain": [
       "array([0.97894737, 0.98947368, 0.96315789, 0.97894737, 0.97368421,\n",
       "       0.98421053, 0.97894737, 0.98412698, 0.98941799, 0.97354497])"
      ]
     },
     "execution_count": 27,
     "metadata": {},
     "output_type": "execute_result"
    }
   ],
   "source": [
    "from sklearn.model_selection import cross_val_score\n",
    "from sklearn.model_selection import StratifiedKFold\n",
    "kfold = StratifiedKFold(n_splits=10, random_state=1, shuffle=True)\n",
    "cv_results = cross_val_score(a, x_train, y_train, cv=kfold, scoring='accuracy')\n",
    "cv_results\n"
   ]
  },
  {
   "cell_type": "code",
   "execution_count": null,
   "metadata": {},
   "outputs": [],
   "source": []
  }
 ],
 "metadata": {
  "kernelspec": {
   "display_name": "Python 3",
   "language": "python",
   "name": "python3"
  },
  "language_info": {
   "codemirror_mode": {
    "name": "ipython",
    "version": 3
   },
   "file_extension": ".py",
   "mimetype": "text/x-python",
   "name": "python",
   "nbconvert_exporter": "python",
   "pygments_lexer": "ipython3",
   "version": "3.8.1"
  }
 },
 "nbformat": 4,
 "nbformat_minor": 4
}
