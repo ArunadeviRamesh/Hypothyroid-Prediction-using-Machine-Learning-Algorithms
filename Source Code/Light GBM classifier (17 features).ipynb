{
 "cells": [
  {
   "cell_type": "markdown",
   "metadata": {},
   "source": [
    "#  Hypothyroid prediction using Light GBM classifier "
   ]
  },
  {
   "cell_type": "code",
   "execution_count": 1,
   "metadata": {},
   "outputs": [],
   "source": [
    "import pandas as pd\n",
    "import numpy as np"
   ]
  },
  {
   "cell_type": "code",
   "execution_count": 2,
   "metadata": {},
   "outputs": [
    {
     "name": "stdout",
     "output_type": "stream",
     "text": [
      "F:\\Thyroid Final\n"
     ]
    }
   ],
   "source": [
    "cd F:\\Thyroid Final"
   ]
  },
  {
   "cell_type": "code",
   "execution_count": 3,
   "metadata": {},
   "outputs": [
    {
     "data": {
      "text/html": [
       "<div>\n",
       "<style scoped>\n",
       "    .dataframe tbody tr th:only-of-type {\n",
       "        vertical-align: middle;\n",
       "    }\n",
       "\n",
       "    .dataframe tbody tr th {\n",
       "        vertical-align: top;\n",
       "    }\n",
       "\n",
       "    .dataframe thead th {\n",
       "        text-align: right;\n",
       "    }\n",
       "</style>\n",
       "<table border=\"1\" class=\"dataframe\">\n",
       "  <thead>\n",
       "    <tr style=\"text-align: right;\">\n",
       "      <th></th>\n",
       "      <th>class</th>\n",
       "      <th>Age</th>\n",
       "      <th>Sex</th>\n",
       "      <th>on_thyroxine</th>\n",
       "      <th>query_on_thyroxine</th>\n",
       "      <th>on_antithyroid_medication</th>\n",
       "      <th>thyroid_surgery</th>\n",
       "      <th>query_hypothyroid</th>\n",
       "      <th>query_hyperthyroid</th>\n",
       "      <th>pregnant</th>\n",
       "      <th>...</th>\n",
       "      <th>T3_measured</th>\n",
       "      <th>T3</th>\n",
       "      <th>TT4_measured</th>\n",
       "      <th>TT4</th>\n",
       "      <th>T4U_measured</th>\n",
       "      <th>T4U</th>\n",
       "      <th>FTI_measured</th>\n",
       "      <th>FTI</th>\n",
       "      <th>TBG_measured</th>\n",
       "      <th>TBG</th>\n",
       "    </tr>\n",
       "  </thead>\n",
       "  <tbody>\n",
       "    <tr>\n",
       "      <th>0</th>\n",
       "      <td>hypothyroid</td>\n",
       "      <td>72</td>\n",
       "      <td>M</td>\n",
       "      <td>f</td>\n",
       "      <td>f</td>\n",
       "      <td>f</td>\n",
       "      <td>f</td>\n",
       "      <td>f</td>\n",
       "      <td>f</td>\n",
       "      <td>f</td>\n",
       "      <td>...</td>\n",
       "      <td>y</td>\n",
       "      <td>0.6</td>\n",
       "      <td>y</td>\n",
       "      <td>15</td>\n",
       "      <td>y</td>\n",
       "      <td>1.48</td>\n",
       "      <td>y</td>\n",
       "      <td>10</td>\n",
       "      <td>n</td>\n",
       "      <td>?</td>\n",
       "    </tr>\n",
       "    <tr>\n",
       "      <th>1</th>\n",
       "      <td>hypothyroid</td>\n",
       "      <td>15</td>\n",
       "      <td>F</td>\n",
       "      <td>t</td>\n",
       "      <td>f</td>\n",
       "      <td>f</td>\n",
       "      <td>f</td>\n",
       "      <td>f</td>\n",
       "      <td>f</td>\n",
       "      <td>f</td>\n",
       "      <td>...</td>\n",
       "      <td>y</td>\n",
       "      <td>1.7</td>\n",
       "      <td>y</td>\n",
       "      <td>19</td>\n",
       "      <td>y</td>\n",
       "      <td>1.13</td>\n",
       "      <td>y</td>\n",
       "      <td>17</td>\n",
       "      <td>n</td>\n",
       "      <td>?</td>\n",
       "    </tr>\n",
       "  </tbody>\n",
       "</table>\n",
       "<p>2 rows × 26 columns</p>\n",
       "</div>"
      ],
      "text/plain": [
       "         class Age Sex on_thyroxine query_on_thyroxine  \\\n",
       "0  hypothyroid  72   M            f                  f   \n",
       "1  hypothyroid  15   F            t                  f   \n",
       "\n",
       "  on_antithyroid_medication thyroid_surgery query_hypothyroid  \\\n",
       "0                         f               f                 f   \n",
       "1                         f               f                 f   \n",
       "\n",
       "  query_hyperthyroid pregnant  ... T3_measured   T3 TT4_measured TT4  \\\n",
       "0                  f        f  ...           y  0.6            y  15   \n",
       "1                  f        f  ...           y  1.7            y  19   \n",
       "\n",
       "  T4U_measured   T4U FTI_measured FTI TBG_measured TBG  \n",
       "0            y  1.48            y  10            n   ?  \n",
       "1            y  1.13            y  17            n   ?  \n",
       "\n",
       "[2 rows x 26 columns]"
      ]
     },
     "execution_count": 3,
     "metadata": {},
     "output_type": "execute_result"
    }
   ],
   "source": [
    "import pandas as pd \n",
    "import warnings\n",
    "warnings.filterwarnings(\"ignore\")\n",
    "\n",
    "file_handler = open(\"hypothyroid.csv\", \"r\") \n",
    "df = pd.read_csv(file_handler, sep = \",\") \n",
    "file_handler.close() \n",
    "df.head(2)"
   ]
  },
  {
   "cell_type": "code",
   "execution_count": 4,
   "metadata": {},
   "outputs": [],
   "source": [
    "df.loc[df['Age'] == '455', 'Age'] = '45'"
   ]
  },
  {
   "cell_type": "code",
   "execution_count": 5,
   "metadata": {},
   "outputs": [],
   "source": [
    "df.dropna(inplace=True)\n",
    "df.replace(to_replace='?', inplace=True)\n",
    "df.dropna(inplace=True)\n",
    "df = df.replace(to_replace={'f':0,'t':1, 'y':1, 'n':0,'M':0,'F':1})\n",
    "df = df.replace(to_replace={'?':True})\n",
    "df.dropna(inplace=True)\n"
   ]
  },
  {
   "cell_type": "code",
   "execution_count": 6,
   "metadata": {},
   "outputs": [],
   "source": [
    "from sklearn.preprocessing import LabelEncoder\n",
    "lb_make = LabelEncoder()\n",
    "df[\"class\"] = lb_make.fit_transform(df[\"class\"])\n",
    "\n",
    "x=df.iloc[:,[1,2,3,4,6,9,10,11,12,13,14,15,16,17,18,19]]\n",
    "y=df[\"class\"]\n",
    "from sklearn.model_selection import train_test_split\n",
    "x_train, x_test, y_train, y_test = train_test_split(x, y,test_size=0.4,random_state=1)\n",
    "# Feature Scaling\n",
    "from sklearn.preprocessing import StandardScaler\n",
    "sc = StandardScaler()\n",
    "x_train = sc.fit_transform(x_train)\n",
    "x_test = sc.transform(x_test)\n"
   ]
  },
  {
   "cell_type": "code",
   "execution_count": 7,
   "metadata": {},
   "outputs": [
    {
     "data": {
      "text/plain": [
       "LGBMClassifier(binary='log loss', boosting_type='dart', class_weight=None,\n",
       "               colsample_bytree=1.0, extra_trees='True',\n",
       "               importance_type='split', learning_rate=0.199, max_depth=10,\n",
       "               metric='binary_logloss', min_child_samples=20,\n",
       "               min_child_weight=0.001, min_split_gain=0.0, n_estimators=100,\n",
       "               n_jobs=-1, num_leaves=90, objective='cross_entropy',\n",
       "               random_state=None, reg_alpha=0.0, reg_lambda=0.0, silent=True,\n",
       "               subsample=1.0, subsample_for_bin=200000, subsample_freq=0,\n",
       "               tree_learner='data')"
      ]
     },
     "execution_count": 7,
     "metadata": {},
     "output_type": "execute_result"
    }
   ],
   "source": [
    "import lightgbm as ltb\n",
    "model = ltb.LGBMClassifier(boosting_type='dart',max_depth=10,num_leaves=90,binary=\"log loss\",learning_rate=0.199,\n",
    "                           objective=\"cross_entropy\",extra_trees=\"True\",tree_learner=\"data\",metric=\"binary_logloss\")\n",
    "model.fit(x_train, y_train)\n"
   ]
  },
  {
   "cell_type": "code",
   "execution_count": 8,
   "metadata": {},
   "outputs": [
    {
     "name": "stdout",
     "output_type": "stream",
     "text": [
      "\n",
      "              precision    recall  f1-score   support\n",
      "\n",
      "           0       0.86      0.89      0.88        55\n",
      "           1       1.00      0.99      0.99      1211\n",
      "\n",
      "    accuracy                           0.99      1266\n",
      "   macro avg       0.93      0.94      0.93      1266\n",
      "weighted avg       0.99      0.99      0.99      1266\n",
      "\n",
      "\n",
      "[[  49    6]\n",
      " [   8 1203]]\n",
      "Accuracy:   0.9889415481832543\n"
     ]
    }
   ],
   "source": [
    "    from sklearn import metrics\n",
    "\n",
    "    expected_y  = y_test\n",
    "    y_pred= model.predict(x_test)\n",
    "    \n",
    "    # summarize the fit of the model\n",
    "    print(); print(metrics.classification_report(expected_y, y_pred))\n",
    "    print(); print(metrics.confusion_matrix(expected_y,y_pred))\n",
    "    print(\"Accuracy:  \",metrics.accuracy_score(expected_y, y_pred))"
   ]
  },
  {
   "cell_type": "code",
   "execution_count": 9,
   "metadata": {},
   "outputs": [
    {
     "data": {
      "text/plain": [
       "1    1211\n",
       "0      55\n",
       "Name: class, dtype: int64"
      ]
     },
     "execution_count": 9,
     "metadata": {},
     "output_type": "execute_result"
    }
   ],
   "source": [
    "# examine the class distribution of the testing set (using a Pandas Series method)\n",
    "y_test.value_counts()\n"
   ]
  },
  {
   "cell_type": "code",
   "execution_count": 10,
   "metadata": {},
   "outputs": [
    {
     "data": {
      "text/plain": [
       "0.9565560821484992"
      ]
     },
     "execution_count": 10,
     "metadata": {},
     "output_type": "execute_result"
    }
   ],
   "source": [
    "# calculate the percentage of ones\n",
    "# because y_test only contains ones and zeros, we can simply calculate the mean = percentage of ones\n",
    "y_test.mean()\n"
   ]
  },
  {
   "cell_type": "code",
   "execution_count": 11,
   "metadata": {},
   "outputs": [
    {
     "data": {
      "text/plain": [
       "0.04344391785150081"
      ]
     },
     "execution_count": 11,
     "metadata": {},
     "output_type": "execute_result"
    }
   ],
   "source": [
    "# calculate the percentage of zeros\n",
    "1 - y_test.mean()\n"
   ]
  },
  {
   "cell_type": "code",
   "execution_count": 12,
   "metadata": {},
   "outputs": [
    {
     "data": {
      "text/plain": [
       "1    0.956556\n",
       "Name: class, dtype: float64"
      ]
     },
     "execution_count": 12,
     "metadata": {},
     "output_type": "execute_result"
    }
   ],
   "source": [
    "# calculate null accuracy (for multi-class classification problems)\n",
    "y_test.value_counts().head(1) / len(y_test)"
   ]
  },
  {
   "cell_type": "code",
   "execution_count": 13,
   "metadata": {},
   "outputs": [
    {
     "name": "stdout",
     "output_type": "stream",
     "text": [
      "classification_error\n",
      "0.011058451816745696\n"
     ]
    }
   ],
   "source": [
    "print(\"classification_error\")\n",
    "print(1 - metrics.accuracy_score(y_test, y_pred))"
   ]
  },
  {
   "cell_type": "code",
   "execution_count": 14,
   "metadata": {},
   "outputs": [
    {
     "data": {
      "image/png": "[encoded data removed]",
      "text/plain": [
       "<Figure size 432x288 with 1 Axes>"
      ]
     },
     "metadata": {
      "needs_background": "light"
     },
     "output_type": "display_data"
    }
   ],
   "source": [
    "import matplotlib.pyplot as plt\n",
    "fpr, tpr, thresholds = metrics.roc_curve(y_test, y_pred)\n",
    "\n",
    "plt.plot(fpr, tpr)\n",
    "plt.xlim([0.0, 1.0])\n",
    "plt.ylim([0.0, 1.0])\n",
    "plt.rcParams['font.size'] = 12\n",
    "plt.title('ROC curve Using Light GBM(17 attributes)')\n",
    "plt.xlabel('False Positive Rate (1 - Specificity)')\n",
    "plt.ylabel('True Positive Rate (Sensitivity)')\n",
    "plt.grid(True)\n"
   ]
  },
  {
   "cell_type": "code",
   "execution_count": 15,
   "metadata": {},
   "outputs": [
    {
     "name": "stdout",
     "output_type": "stream",
     "text": [
      "ACCURACY:\n",
      "0.9889415481832543\n"
     ]
    }
   ],
   "source": [
    "# calculate accuracy\n",
    "from sklearn import metrics\n",
    "print(\"ACCURACY:\")\n",
    "print(metrics.accuracy_score(y_test, y_pred))\n"
   ]
  },
  {
   "cell_type": "code",
   "execution_count": 16,
   "metadata": {},
   "outputs": [
    {
     "name": "stdout",
     "output_type": "stream",
     "text": [
      "[[  49    6]\n",
      " [   8 1203]]\n",
      "classification_error\n",
      "0.011058451816745696\n",
      "sensitivity\n",
      "0.9933938893476466\n",
      "True Positive Rate\n",
      "0.8909090909090909\n",
      "precision\n",
      "0.9950372208436724\n",
      "roc_auc_score\n",
      "0.9421514901283687\n",
      "F-Measure: 0.994\n"
     ]
    }
   ],
   "source": [
    "confusion = metrics.confusion_matrix(y_test, y_pred)\n",
    "print(confusion)\n",
    "#[row, column]\n",
    "TP = confusion[1, 1]\n",
    "TN = confusion[0, 0]\n",
    "FP = confusion[0, 1]\n",
    "FN = confusion[1, 0]\n",
    "print(\"classification_error\")\n",
    "print(1 - metrics.accuracy_score(y_test, y_pred))\n",
    "print(\"sensitivity\")\n",
    "print(metrics.recall_score(y_test, y_pred))\n",
    "print(\"True Positive Rate\")\n",
    "specificity = TN / (TN + FP)\n",
    "\n",
    "print(specificity)\n",
    "print(\"precision\")\n",
    "print(metrics.precision_score(y_test, y_pred))\n",
    "print(\"roc_auc_score\")\n",
    "print(metrics.roc_auc_score(y_test, y_pred))\n",
    "from sklearn.metrics import f1_score\n",
    "score = f1_score(y_test, y_pred, average='binary')\n",
    "print('F-Measure: %.3f' % score)"
   ]
  },
  {
   "cell_type": "code",
   "execution_count": 17,
   "metadata": {},
   "outputs": [
    {
     "data": {
      "image/png": "[encoded data removed]",
      "text/plain": [
       "<Figure size 432x432 with 1 Axes>"
      ]
     },
     "metadata": {
      "needs_background": "light"
     },
     "output_type": "display_data"
    }
   ],
   "source": [
    "from sklearn.metrics import confusion_matrix\n",
    "cm = confusion_matrix(y_test, model.predict(x_test))\n",
    "fig, ax = plt.subplots(figsize=(6,6))\n",
    "ax.imshow(cm)\n",
    "ax.grid(False)\n",
    "ax.xaxis.set(ticks=(0, 1), ticklabels=('Predicted Hypothyroid', 'Predicted Negative'))\n",
    "ax.yaxis.set(ticks=(0, 1), ticklabels=('Actual Hypothyroid', 'Actual Negative'))\n",
    "ax.set_ylim(1.5, -0.5)\n",
    "for i in range(2):\n",
    "    for j in range(2):\n",
    "        ax.text(j, i, cm[i, j], ha='center', va='center', color='red')\n",
    "plt.title(\"Confusion matrix using Light GBM (17 attributes)\")\n",
    "plt.show()\n"
   ]
  },
  {
   "cell_type": "code",
   "execution_count": 18,
   "metadata": {},
   "outputs": [
    {
     "data": {
      "text/plain": [
       "array([0.97894737, 0.99473684, 0.95789474, 0.97368421, 0.98421053,\n",
       "       0.98421053, 0.98421053, 0.99470899, 0.98941799, 0.97883598])"
      ]
     },
     "execution_count": 18,
     "metadata": {},
     "output_type": "execute_result"
    }
   ],
   "source": [
    "from sklearn.model_selection import cross_val_score\n",
    "from sklearn.model_selection import StratifiedKFold\n",
    "kfold = StratifiedKFold(n_splits=10, random_state=1, shuffle=True)\n",
    "cv_results = cross_val_score(model, x_train, y_train, cv=kfold, scoring='accuracy')\n",
    "cv_results\n"
   ]
  },
  {
   "cell_type": "code",
   "execution_count": null,
   "metadata": {},
   "outputs": [],
   "source": []
  }
 ],
 "metadata": {
  "kernelspec": {
   "display_name": "Python 3",
   "language": "python",
   "name": "python3"
  },
  "language_info": {
   "codemirror_mode": {
    "name": "ipython",
    "version": 3
   },
   "file_extension": ".py",
   "mimetype": "text/x-python",
   "name": "python",
   "nbconvert_exporter": "python",
   "pygments_lexer": "ipython3",
   "version": "3.8.1"
  }
 },
 "nbformat": 4,
 "nbformat_minor": 4
}
